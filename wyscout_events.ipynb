{
 "cells": [
  {
   "cell_type": "code",
   "execution_count": 1,
   "id": "4cea7df5-aa6d-49b3-9fd6-93982ee7ca28",
   "metadata": {},
   "outputs": [],
   "source": [
    "import os\n",
    "import pandas as pd\n",
    "import json\n",
    "#import seaborn as sb\n",
    "#import matplotlib.pyplot as plt\n",
    "#import numpy as np\n",
    "#from sklearn import metrics, preprocessing\n",
    "#import operator\n",
    "#import math"
   ]
  },
  {
   "cell_type": "code",
   "execution_count": 2,
   "id": "3ce25e3b-9f1e-45ac-b9f1-a3963bf94772",
   "metadata": {},
   "outputs": [
    {
     "name": "stdout",
     "output_type": "stream",
     "text": [
      "Tournament: England\n",
      "Tournament: European\n",
      "Tournament: France\n",
      "Tournament: Germany\n",
      "Tournament: Italy\n",
      "Tournament: Spain\n",
      "Tournament: World\n",
      "(3251294, 19)\n"
     ]
    }
   ],
   "source": [
    "# Directory containing JSON files\n",
    "directory = \"events/\"\n",
    "\n",
    "# Initialize an empty list to store DataFrames\n",
    "dfs = []\n",
    "\n",
    "# Iterate over files in the directory\n",
    "for filename in os.listdir(directory):\n",
    "    if filename.endswith(\".json\"):\n",
    "        # Extract tournament name from filename\n",
    "        tournament = filename.split(\"_\")[1].split(\".\")[0]\n",
    "        print(\"Tournament:\", tournament)  \n",
    "        # Read JSON file into DataFrame\n",
    "        filepath = os.path.join(directory, filename)\n",
    "        with open(filepath, 'r', encoding='utf-8') as file:\n",
    "            data = json.load(file)\n",
    "        df = pd.DataFrame(data)\n",
    "        \n",
    "        # Flatten columns with lists\n",
    "        for column in df.columns:\n",
    "            if isinstance(df[column][0], list):\n",
    "                # Expand list into multiple columns\n",
    "                expanded_columns = pd.json_normalize(df[column])\n",
    "                expanded_columns.columns = [f\"{column}_{col}\" for col in expanded_columns.columns]\n",
    "                df = pd.concat([df, expanded_columns], axis=1)\n",
    "                # Drop the original column\n",
    "                df.drop(columns=[column], inplace=True)\n",
    "        \n",
    "        # Add Tournament column\n",
    "        df['Tournament'] = tournament\n",
    "        dfs.append(df)\n",
    "\n",
    "# Concatenate all DataFrames into a single DataFrame\n",
    "combined_df = pd.concat(dfs, ignore_index=True)\n",
    "\n",
    "# Display combined DataFrame\n",
    "pd.set_option(\"display.max_columns\", None)\n",
    "print(combined_df.shape)"
   ]
  },
  {
   "cell_type": "code",
   "execution_count": 7,
   "id": "e2ffeeda-19d9-4178-8db9-1cd85c7c78d6",
   "metadata": {},
   "outputs": [
    {
     "name": "stdout",
     "output_type": "stream",
     "text": [
      "<class 'pandas.core.frame.DataFrame'>\n",
      "RangeIndex: 3251294 entries, 0 to 3251293\n",
      "Data columns (total 19 columns):\n",
      " #   Column        Dtype  \n",
      "---  ------        -----  \n",
      " 0   eventId       int64  \n",
      " 1   subEventName  object \n",
      " 2   playerId      int64  \n",
      " 3   matchId       int64  \n",
      " 4   eventName     object \n",
      " 5   teamId        int64  \n",
      " 6   matchPeriod   object \n",
      " 7   eventSec      float64\n",
      " 8   subEventId    object \n",
      " 9   id            int64  \n",
      " 10  tags_0        object \n",
      " 11  tags_1        object \n",
      " 12  tags_2        object \n",
      " 13  tags_3        object \n",
      " 14  tags_4        object \n",
      " 15  tags_5        object \n",
      " 16  positions_0   object \n",
      " 17  positions_1   object \n",
      " 18  Tournament    object \n",
      "dtypes: float64(1), int64(5), object(13)\n",
      "memory usage: 471.3+ MB\n"
     ]
    }
   ],
   "source": [
    "combined_df.info()"
   ]
  },
  {
   "cell_type": "code",
   "execution_count": 3,
   "id": "787013fc-3e8e-4024-bc4a-d626827d51b9",
   "metadata": {
    "scrolled": true
   },
   "outputs": [
    {
     "data": {
      "text/plain": [
       "eventId                          8\n",
       "subEventName           Simple pass\n",
       "playerId                     25413\n",
       "matchId                    2499719\n",
       "eventName                     Pass\n",
       "teamId                        1609\n",
       "matchPeriod                     1H\n",
       "eventSec                  2.758649\n",
       "subEventId                      85\n",
       "id                       177959171\n",
       "tags_0                {'id': 1801}\n",
       "tags_1                        None\n",
       "tags_2                        None\n",
       "tags_3                        None\n",
       "tags_4                        None\n",
       "tags_5                        None\n",
       "positions_0     {'y': 49, 'x': 49}\n",
       "positions_1     {'y': 78, 'x': 31}\n",
       "Tournament                 England\n",
       "Name: 0, dtype: object"
      ]
     },
     "execution_count": 3,
     "metadata": {},
     "output_type": "execute_result"
    }
   ],
   "source": [
    "combined_df.iloc[0]"
   ]
  },
  {
   "cell_type": "code",
   "execution_count": 6,
   "id": "dff91112-78cc-4cff-b96a-1dcdb13b45fc",
   "metadata": {},
   "outputs": [
    {
     "data": {
      "text/html": [
       "<div>\n",
       "<style scoped>\n",
       "    .dataframe tbody tr th:only-of-type {\n",
       "        vertical-align: middle;\n",
       "    }\n",
       "\n",
       "    .dataframe tbody tr th {\n",
       "        vertical-align: top;\n",
       "    }\n",
       "\n",
       "    .dataframe thead th {\n",
       "        text-align: right;\n",
       "    }\n",
       "</style>\n",
       "<table border=\"1\" class=\"dataframe\">\n",
       "  <thead>\n",
       "    <tr style=\"text-align: right;\">\n",
       "      <th></th>\n",
       "      <th>eventId</th>\n",
       "      <th>subEventName</th>\n",
       "      <th>playerId</th>\n",
       "      <th>matchId</th>\n",
       "      <th>eventName</th>\n",
       "      <th>teamId</th>\n",
       "      <th>matchPeriod</th>\n",
       "      <th>eventSec</th>\n",
       "      <th>subEventId</th>\n",
       "      <th>id</th>\n",
       "      <th>tags_0</th>\n",
       "      <th>tags_1</th>\n",
       "      <th>tags_2</th>\n",
       "      <th>tags_3</th>\n",
       "      <th>tags_4</th>\n",
       "      <th>tags_5</th>\n",
       "      <th>positions_0</th>\n",
       "      <th>positions_1</th>\n",
       "      <th>Tournament</th>\n",
       "    </tr>\n",
       "  </thead>\n",
       "  <tbody>\n",
       "    <tr>\n",
       "      <th>0</th>\n",
       "      <td>8</td>\n",
       "      <td>Simple pass</td>\n",
       "      <td>25413</td>\n",
       "      <td>2499719</td>\n",
       "      <td>Pass</td>\n",
       "      <td>1609</td>\n",
       "      <td>1H</td>\n",
       "      <td>2.758649</td>\n",
       "      <td>85</td>\n",
       "      <td>177959171</td>\n",
       "      <td>{'id': 1801}</td>\n",
       "      <td>None</td>\n",
       "      <td>None</td>\n",
       "      <td>None</td>\n",
       "      <td>None</td>\n",
       "      <td>None</td>\n",
       "      <td>{'y': 49, 'x': 49}</td>\n",
       "      <td>{'y': 78, 'x': 31}</td>\n",
       "      <td>England</td>\n",
       "    </tr>\n",
       "    <tr>\n",
       "      <th>1</th>\n",
       "      <td>8</td>\n",
       "      <td>High pass</td>\n",
       "      <td>370224</td>\n",
       "      <td>2499719</td>\n",
       "      <td>Pass</td>\n",
       "      <td>1609</td>\n",
       "      <td>1H</td>\n",
       "      <td>4.946850</td>\n",
       "      <td>83</td>\n",
       "      <td>177959172</td>\n",
       "      <td>{'id': 1801}</td>\n",
       "      <td>None</td>\n",
       "      <td>None</td>\n",
       "      <td>None</td>\n",
       "      <td>None</td>\n",
       "      <td>None</td>\n",
       "      <td>{'y': 78, 'x': 31}</td>\n",
       "      <td>{'y': 75, 'x': 51}</td>\n",
       "      <td>England</td>\n",
       "    </tr>\n",
       "    <tr>\n",
       "      <th>2</th>\n",
       "      <td>8</td>\n",
       "      <td>Head pass</td>\n",
       "      <td>3319</td>\n",
       "      <td>2499719</td>\n",
       "      <td>Pass</td>\n",
       "      <td>1609</td>\n",
       "      <td>1H</td>\n",
       "      <td>6.542188</td>\n",
       "      <td>82</td>\n",
       "      <td>177959173</td>\n",
       "      <td>{'id': 1801}</td>\n",
       "      <td>None</td>\n",
       "      <td>None</td>\n",
       "      <td>None</td>\n",
       "      <td>None</td>\n",
       "      <td>None</td>\n",
       "      <td>{'y': 75, 'x': 51}</td>\n",
       "      <td>{'y': 71, 'x': 35}</td>\n",
       "      <td>England</td>\n",
       "    </tr>\n",
       "  </tbody>\n",
       "</table>\n",
       "</div>"
      ],
      "text/plain": [
       "   eventId subEventName  playerId  matchId eventName  teamId matchPeriod  \\\n",
       "0        8  Simple pass     25413  2499719      Pass    1609          1H   \n",
       "1        8    High pass    370224  2499719      Pass    1609          1H   \n",
       "2        8    Head pass      3319  2499719      Pass    1609          1H   \n",
       "\n",
       "   eventSec subEventId         id        tags_0 tags_1 tags_2 tags_3 tags_4  \\\n",
       "0  2.758649         85  177959171  {'id': 1801}   None   None   None   None   \n",
       "1  4.946850         83  177959172  {'id': 1801}   None   None   None   None   \n",
       "2  6.542188         82  177959173  {'id': 1801}   None   None   None   None   \n",
       "\n",
       "  tags_5         positions_0         positions_1 Tournament  \n",
       "0   None  {'y': 49, 'x': 49}  {'y': 78, 'x': 31}    England  \n",
       "1   None  {'y': 78, 'x': 31}  {'y': 75, 'x': 51}    England  \n",
       "2   None  {'y': 75, 'x': 51}  {'y': 71, 'x': 35}    England  "
      ]
     },
     "execution_count": 6,
     "metadata": {},
     "output_type": "execute_result"
    }
   ],
   "source": [
    "combined_df.head(3)"
   ]
  },
  {
   "cell_type": "code",
   "execution_count": 5,
   "id": "a9d3076c-ef4b-4473-8c40-a5caf9fb1522",
   "metadata": {},
   "outputs": [
    {
     "data": {
      "text/plain": [
       "Tournament\n",
       "Italy       647372\n",
       "England     643150\n",
       "France      632807\n",
       "Spain       628659\n",
       "Germany     519407\n",
       "World       101759\n",
       "European     78140\n",
       "Name: count, dtype: int64"
      ]
     },
     "execution_count": 5,
     "metadata": {},
     "output_type": "execute_result"
    }
   ],
   "source": [
    "combined_df[\"Tournament\"].value_counts()"
   ]
  },
  {
   "cell_type": "code",
   "execution_count": null,
   "id": "0df5345a-c6fd-4cb8-95a3-5cf3a4ff84fe",
   "metadata": {},
   "outputs": [],
   "source": []
  }
 ],
 "metadata": {
  "kernelspec": {
   "display_name": "Python 3 (ipykernel)",
   "language": "python",
   "name": "python3"
  },
  "language_info": {
   "codemirror_mode": {
    "name": "ipython",
    "version": 3
   },
   "file_extension": ".py",
   "mimetype": "text/x-python",
   "name": "python",
   "nbconvert_exporter": "python",
   "pygments_lexer": "ipython3",
   "version": "3.11.1"
  }
 },
 "nbformat": 4,
 "nbformat_minor": 5
}
