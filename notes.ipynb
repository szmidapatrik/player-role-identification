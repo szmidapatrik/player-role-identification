{
 "cells": [
  {
   "cell_type": "markdown",
   "metadata": {},
   "source": [
    "# Project structure\n",
    "\n",
    "    root\n",
    "    ├── data\n",
    "    │   ├── events\n",
    "    │   │   └── events_England.json\n",
    "    │   ├── matches\n",
    "    │   │   └── matches_England.json\n",
    "    │   ├── players.json\n",
    "    │   └── matches.json\n",
    "    ├── wyscout_datasets.ipynb\n",
    "    ├── notes.ipynb\n",
    "    └── .gitignore"
   ]
  }
 ],
 "metadata": {
  "language_info": {
   "name": "python"
  }
 },
 "nbformat": 4,
 "nbformat_minor": 2
}
